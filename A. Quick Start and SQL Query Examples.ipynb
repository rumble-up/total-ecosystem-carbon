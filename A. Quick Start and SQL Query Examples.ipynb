{
 "cells": [
  {
   "cell_type": "markdown",
   "id": "f203dfb5",
   "metadata": {},
   "source": [
    "# Quick start and SQL query example\n",
    "This notebook shows how to use the pipeline and some example queries that can be made from the database."
   ]
  },
  {
   "cell_type": "code",
   "execution_count": 2,
   "id": "299e26fc",
   "metadata": {},
   "outputs": [],
   "source": [
    "from carbon_stats import CarbonStats\n",
    "import sqlite3\n",
    "import pandas as pd\n",
    "import geopandas as gpd"
   ]
  },
  {
   "cell_type": "markdown",
   "id": "a45e2b65",
   "metadata": {},
   "source": [
    "# Run the Pipeline and Populate the Database\n",
    "Using the pipeline defined in carbon_stats.py, the following cell shows an example of running the pipeline.\n",
    "This cell with takes 1 minute or more to run, mostly because the pipeline currently uses raster_stats.zonal_stats, which is simple to implement but slow with large rasters.  "
   ]
  },
  {
   "cell_type": "code",
   "execution_count": 3,
   "id": "cc382fc8",
   "metadata": {},
   "outputs": [
    {
     "name": "stdout",
     "output_type": "stream",
     "text": [
      "Successfully exported to data/outputs/county_carbon.sqlite\n"
     ]
    },
    {
     "data": {
      "text/plain": [
       "'data/outputs/county_carbon.sqlite'"
      ]
     },
     "execution_count": 3,
     "metadata": {},
     "output_type": "execute_result"
    }
   ],
   "source": [
    "# Where the database file will be saved\n",
    "db_file = \"data/outputs/county_carbon.sqlite\"\n",
    "\n",
    "# Initialize the processor\n",
    "cs = CarbonStats(\n",
    "    raster_file=\"data/inputs/NLS_TotalEcosystemCarbon2020.tif\",\n",
    "    boundary_file=\"data/inputs/US_census_counties/cb_2024_us_county_500k.shp\"\n",
    ")\n",
    "\n",
    "# Process the data\n",
    "cs.read_raster()\n",
    "cs.process_boundaries(['Michigan', 'Wisconsin', 'Minnesota'])\n",
    "cs.calculate_stats()\n",
    "\n",
    "# Export to database\n",
    "cs.export_to_sqlite(db_file)"
   ]
  },
  {
   "cell_type": "markdown",
   "id": "d602a0a7",
   "metadata": {},
   "source": [
    "# Example SQL query\n",
    "Here's an example of reading from the database we just created.  Then, if we like, we can import it back to a GeoDataFrame."
   ]
  },
  {
   "cell_type": "code",
   "execution_count": 6,
   "id": "59e4c902",
   "metadata": {},
   "outputs": [
    {
     "data": {
      "text/html": [
       "<div>\n",
       "<style scoped>\n",
       "    .dataframe tbody tr th:only-of-type {\n",
       "        vertical-align: middle;\n",
       "    }\n",
       "\n",
       "    .dataframe tbody tr th {\n",
       "        vertical-align: top;\n",
       "    }\n",
       "\n",
       "    .dataframe thead th {\n",
       "        text-align: right;\n",
       "    }\n",
       "</style>\n",
       "<table border=\"1\" class=\"dataframe\">\n",
       "  <thead>\n",
       "    <tr style=\"text-align: right;\">\n",
       "      <th></th>\n",
       "      <th>geoid</th>\n",
       "      <th>county_name</th>\n",
       "      <th>state_name</th>\n",
       "      <th>total_Tg_CO2e</th>\n",
       "      <th>average_Mg_CO2e_per_acre</th>\n",
       "      <th>county_area_acres</th>\n",
       "      <th>geometry</th>\n",
       "    </tr>\n",
       "  </thead>\n",
       "  <tbody>\n",
       "    <tr>\n",
       "      <th>0</th>\n",
       "      <td>27135</td>\n",
       "      <td>Roseau</td>\n",
       "      <td>Minnesota</td>\n",
       "      <td>59.777109</td>\n",
       "      <td>55.656440</td>\n",
       "      <td>1.074038e+06</td>\n",
       "      <td>POLYGON ((-96.40541 48.99998, -96.20883 48.999...</td>\n",
       "    </tr>\n",
       "    <tr>\n",
       "      <th>1</th>\n",
       "      <td>27097</td>\n",
       "      <td>Morrison</td>\n",
       "      <td>Minnesota</td>\n",
       "      <td>60.825771</td>\n",
       "      <td>82.391388</td>\n",
       "      <td>7.382540e+05</td>\n",
       "      <td>POLYGON ((-94.65346 46.34868, -94.65079 46.347...</td>\n",
       "    </tr>\n",
       "    <tr>\n",
       "      <th>2</th>\n",
       "      <td>27111</td>\n",
       "      <td>Otter Tail</td>\n",
       "      <td>Minnesota</td>\n",
       "      <td>77.213624</td>\n",
       "      <td>54.236593</td>\n",
       "      <td>1.423644e+06</td>\n",
       "      <td>POLYGON ((-96.2812 46.63078, -96.24015 46.6308...</td>\n",
       "    </tr>\n",
       "    <tr>\n",
       "      <th>3</th>\n",
       "      <td>27017</td>\n",
       "      <td>Carlton</td>\n",
       "      <td>Minnesota</td>\n",
       "      <td>78.313274</td>\n",
       "      <td>139.839912</td>\n",
       "      <td>5.600209e+05</td>\n",
       "      <td>POLYGON ((-93.0647 46.68009, -93.06457 46.6836...</td>\n",
       "    </tr>\n",
       "    <tr>\n",
       "      <th>4</th>\n",
       "      <td>27029</td>\n",
       "      <td>Clearwater</td>\n",
       "      <td>Minnesota</td>\n",
       "      <td>79.071139</td>\n",
       "      <td>119.910225</td>\n",
       "      <td>6.594195e+05</td>\n",
       "      <td>POLYGON ((-95.58289 48.02067, -95.22911 48.020...</td>\n",
       "    </tr>\n",
       "  </tbody>\n",
       "</table>\n",
       "</div>"
      ],
      "text/plain": [
       "   geoid county_name state_name  total_Tg_CO2e  average_Mg_CO2e_per_acre  \\\n",
       "0  27135      Roseau  Minnesota      59.777109                 55.656440   \n",
       "1  27097    Morrison  Minnesota      60.825771                 82.391388   \n",
       "2  27111  Otter Tail  Minnesota      77.213624                 54.236593   \n",
       "3  27017     Carlton  Minnesota      78.313274                139.839912   \n",
       "4  27029  Clearwater  Minnesota      79.071139                119.910225   \n",
       "\n",
       "   county_area_acres                                           geometry  \n",
       "0       1.074038e+06  POLYGON ((-96.40541 48.99998, -96.20883 48.999...  \n",
       "1       7.382540e+05  POLYGON ((-94.65346 46.34868, -94.65079 46.347...  \n",
       "2       1.423644e+06  POLYGON ((-96.2812 46.63078, -96.24015 46.6308...  \n",
       "3       5.600209e+05  POLYGON ((-93.0647 46.68009, -93.06457 46.6836...  \n",
       "4       6.594195e+05  POLYGON ((-95.58289 48.02067, -95.22911 48.020...  "
      ]
     },
     "execution_count": 6,
     "metadata": {},
     "output_type": "execute_result"
    }
   ],
   "source": [
    "#Connect to SQLite database file\n",
    "conn = sqlite3.connect(db_file)\n",
    "\n",
    "# Query all columns for Minnesota counties with more than 50 Tg CO2e\n",
    "# Order from lowest to highest total_Tg_CO2e\n",
    "query = \"\"\"\n",
    "SELECT *\n",
    "FROM county_carbon\n",
    "WHERE state_name = 'Minnesota'\n",
    "  AND total_Tg_CO2e > 50\n",
    "ORDER BY total_Tg_CO2e; \n",
    "\"\"\"\n",
    "\n",
    "# Use pandas to execute query and load into DataFrame\n",
    "df_from_sql = pd.read_sql_query(query, conn)\n",
    "\n",
    "# Close the connection\n",
    "conn.close()\n",
    "\n",
    "# Transform df to a GeoDataFrame\n",
    "gdf_from_sql = gpd.GeoDataFrame(\n",
    "    df_from_sql,\n",
    "    geometry=gpd.GeoSeries.from_wkt(df_from_sql['geometry_wkt_EPSG_4326']),\n",
    "    crs='EPSG:4326'\n",
    ")\n",
    "gdf_from_sql = gdf_from_sql.drop(columns='geometry_wkt_EPSG_4326')\n",
    "\n",
    "# Output the GeoDataFrame to verify\n",
    "gdf_from_sql.head()"
   ]
  },
  {
   "cell_type": "code",
   "execution_count": null,
   "id": "5416e7aa",
   "metadata": {},
   "outputs": [],
   "source": []
  }
 ],
 "metadata": {
  "kernelspec": {
   "display_name": ".venv",
   "language": "python",
   "name": "python3"
  },
  "language_info": {
   "codemirror_mode": {
    "name": "ipython",
    "version": 3
   },
   "file_extension": ".py",
   "mimetype": "text/x-python",
   "name": "python",
   "nbconvert_exporter": "python",
   "pygments_lexer": "ipython3",
   "version": "3.10.12"
  }
 },
 "nbformat": 4,
 "nbformat_minor": 5
}
